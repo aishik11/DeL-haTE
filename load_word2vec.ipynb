{
  "nbformat": 4,
  "nbformat_minor": 0,
  "metadata": {
    "colab": {
      "name": "load_word2vec.ipynb",
      "provenance": [],
      "collapsed_sections": [],
      "authorship_tag": "ABX9TyNeHvB0EN3WCZVCW/F/p1Fl",
      "include_colab_link": true
    },
    "kernelspec": {
      "name": "python3",
      "display_name": "Python 3"
    },
    "language_info": {
      "name": "python"
    }
  },
  "cells": [
    {
      "cell_type": "markdown",
      "metadata": {
        "id": "view-in-github",
        "colab_type": "text"
      },
      "source": [
        "<a href=\"https://colab.research.google.com/github/aishik11/DeL-haTE/blob/master/load_word2vec.ipynb\" target=\"_parent\"><img src=\"https://colab.research.google.com/assets/colab-badge.svg\" alt=\"Open In Colab\"/></a>"
      ]
    },
    {
      "cell_type": "code",
      "metadata": {
        "id": "8i7MslY1cq-C"
      },
      "source": [
        "#!/usr/bin/env python3\n",
        "\n",
        "import os\n",
        "import requests\n",
        "import shutil\n",
        "\n",
        "import numpy as np\n",
        "from tqdm import tqdm\n",
        "\n",
        "import torch\n",
        "from gensim.models import KeyedVectors\n",
        "\n",
        "\"\"\"\n",
        "    Hack to convert word2vec binary file to torchtext format.\n",
        "    \n",
        "    Torchtext vocab.Vectors cannot handle the word2vec binary format.\n",
        "    Load vectors into gensim and manually convert to format for torchtext.\n",
        "\"\"\"\n",
        "\n",
        "name = 'GoogleNews-vectors-negative300'\n",
        "fname = f'{name}.bin.gz'\n",
        "w2v_path = f'data/word2vec'\n",
        "fpath = f'{w2v_path}/{fname}'\n",
        "out_path = f'{w2v_path}/{name}.txt.pt'\n",
        "\n",
        "os.makedirs(w2v_path, exist_ok=True)\n",
        "\n",
        "if not os.path.isfile(fpath):\n",
        "    # Permanent download link?\n",
        "    # 'https://s3.amazonaws.com/dl4j-distribution/GoogleNews-vectors-negative300.bin.gz'\n",
        "\n",
        "    url = f'https://s3.amazonaws.com/dl4j-distribution/{fname}'\n",
        "    print(f'No word2vec vectors file found. Downloading from\\n{url}')\n",
        "\n",
        "    # TODO: Progress bar with shutil?\n",
        "    with requests.get(url, stream=True) as r, open(fpath, 'wb') as f:\n",
        "        shutil.copyfileobj(r.raw, f)\n",
        "\n",
        "print('Loading pre-trained vectors into Gensim...')\n",
        "embed = KeyedVectors.load_word2vec_format(fpath, binary=True, encoding='ISO-8859-1', unicode_errors='ignore')\n",
        "\n",
        "itos = []\n",
        "stoi = {}\n",
        "dim = 300\n",
        "vectors = torch.empty((len(embed.vocab), dim))\n",
        "print('Converting to torchtext format...\\n')\n",
        "for i, token in enumerate(tqdm(embed.vocab)):\n",
        "    itos.append(token)\n",
        "    stoi[token] = i\n",
        "    vectors[i] = torch.from_numpy(np.array(embed[token]))\n",
        "\n",
        "del embed  # Remove gensim model from memory\n",
        "\n",
        "print(f'Saving to {out_path}')\n",
        "torch.save((itos, stoi, vectors, dim), out_path)\n"
      ],
      "execution_count": null,
      "outputs": []
    }
  ]
}